{
 "cells": [
  {
   "cell_type": "code",
   "execution_count": null,
   "id": "cdffd0bb",
   "metadata": {},
   "outputs": [],
   "source": [
    "# this file needs to be in the same directory as \"cleaned_K8.csv\"\n",
    "# assuming we've already run clean_data.py: run with \"python3 driver.py\"\n",
    "import pandas as pd\n",
    "import numpy as np\n",
    "import seaborn as sns\n",
    "from sklearn.svm import SVC\n",
    "from sklearn.ensemble import RandomForestClassifier\n",
    "from sklearn.tree import plot_tree\n",
    "from sklearn.metrics import confusion_matrix, ConfusionMatrixDisplay, precision_score, recall_score, f1_score, roc_auc_score"
   ]
  },
  {
   "cell_type": "code",
   "execution_count": 3,
   "id": "2a39bfd1",
   "metadata": {},
   "outputs": [
    {
     "ename": "ModuleNotFoundError",
     "evalue": "No module named 'knn'",
     "output_type": "error",
     "traceback": [
      "\u001b[0;31m---------------------------------------------------------------------------\u001b[0m",
      "\u001b[0;31mModuleNotFoundError\u001b[0m                       Traceback (most recent call last)",
      "\u001b[0;32m/var/folders/7m/v0vnhkj970x4cx14_yb9q23m0000gn/T/ipykernel_15714/1224258819.py\u001b[0m in \u001b[0;36m<module>\u001b[0;34m\u001b[0m\n\u001b[0;32m----> 1\u001b[0;31m \u001b[0;32mimport\u001b[0m \u001b[0mknn\u001b[0m\u001b[0;34m.\u001b[0m\u001b[0mpy\u001b[0m\u001b[0;34m\u001b[0m\u001b[0;34m\u001b[0m\u001b[0m\n\u001b[0m\u001b[1;32m      2\u001b[0m \u001b[0;32mimport\u001b[0m \u001b[0msvm\u001b[0m\u001b[0;34m\u001b[0m\u001b[0;34m\u001b[0m\u001b[0m\n\u001b[1;32m      3\u001b[0m \u001b[0;32mimport\u001b[0m \u001b[0mlogistic_regression\u001b[0m\u001b[0;34m\u001b[0m\u001b[0;34m\u001b[0m\u001b[0m\n",
      "\u001b[0;31mModuleNotFoundError\u001b[0m: No module named 'knn'"
     ]
    }
   ],
   "source": [
    "import knn\n",
    "import svm\n",
    "import logistic_regression"
   ]
  },
  {
   "cell_type": "code",
   "execution_count": null,
   "id": "70a6b8c7",
   "metadata": {},
   "outputs": [],
   "source": [
    "df = pd.read_csv(\"cleaned_K8.csv\", header = None, low_memory = False)  # process the data with pandas"
   ]
  },
  {
   "cell_type": "code",
   "execution_count": null,
   "id": "8211ca1b",
   "metadata": {},
   "outputs": [],
   "source": [
    "data = sns.countplot(df[5408])\n",
    "data.set_xticklabels([0,1])\n",
    "plt.title('data distribution')\n",
    "plt.xlabel('labels')\n",
    "plt.ylabel('counts')\n",
    "plt.legend()\n",
    "plt.show()"
   ]
  },
  {
   "cell_type": "markdown",
   "id": "5ffa6311",
   "metadata": {},
   "source": [
    "### Oversampling Technique"
   ]
  },
  {
   "cell_type": "code",
   "execution_count": null,
   "id": "331c780a",
   "metadata": {},
   "outputs": [],
   "source": [
    "class_count_0, class_count_1 = df[5408].value_counts()"
   ]
  },
  {
   "cell_type": "code",
   "execution_count": null,
   "id": "9c0af1ab",
   "metadata": {},
   "outputs": [],
   "source": [
    "print(class_count_0, class_count_1)"
   ]
  },
  {
   "cell_type": "code",
   "execution_count": null,
   "id": "cf89e2ba",
   "metadata": {},
   "outputs": [],
   "source": [
    "# Separate class\n",
    "class_0 = df[df[5408] == 0]\n",
    "class_1 = df[df[5408] == 1]# print the shape of the class\n",
    "print('class 0:', class_0.shape)\n",
    "print('class 1:', class_1.shape)"
   ]
  },
  {
   "cell_type": "code",
   "execution_count": null,
   "id": "76c33b45",
   "metadata": {},
   "outputs": [],
   "source": [
    "class_1_over = class_1.sample(class_count_0, replace=True)\n",
    "\n",
    "test_over = pd.concat([class_1_over, class_0], axis=0)\n",
    "\n",
    "test_over[5408].value_counts().plot(kind='bar', title='count (target)')"
   ]
  },
  {
   "cell_type": "code",
   "execution_count": null,
   "id": "7241dfe0",
   "metadata": {},
   "outputs": [],
   "source": [
    "test_over.head()"
   ]
  },
  {
   "cell_type": "code",
   "execution_count": null,
   "id": "0dda708a",
   "metadata": {},
   "outputs": [],
   "source": [
    "acc_svm = SVM(test_over,0.7)\n",
    "print(acc_svm)"
   ]
  },
  {
   "cell_type": "code",
   "execution_count": null,
   "id": "0ff557ef",
   "metadata": {},
   "outputs": [],
   "source": [
    "size_train = int(0.7 * len(test_over))\n",
    "df_train, df_test = test_over.head(size_train), test_over.iloc[size_train:,:]\n",
    "    \n",
    "# we can add class_weight='balanced' to add panalize mistake\n",
    "svc_model = SVC()\n",
    "X_train, y_train = df_train.iloc[:,:df_train.shape[1] - 1], df_train.iloc[:,df_train.shape[1] - 1]\n",
    "X_test, y_test = df_test.iloc[:,:df_test.shape[1] - 1], df_test.iloc[:,df_test.shape[1] - 1]\n",
    "svc_model.fit(X_train, y_train)\n",
    "\n",
    "svc_predict = svc_model.predict(X_test)# check performance"
   ]
  },
  {
   "cell_type": "code",
   "execution_count": null,
   "id": "ca4e4895",
   "metadata": {},
   "outputs": [],
   "source": [
    "print('ROCAUC score:',roc_auc_score(y_test, svc_predict))\n",
    "print('Accuracy score:',accuracy_score(y_test, svc_predict))\n",
    "print('F1 score:',f1_score(y_test, svc_predict))"
   ]
  },
  {
   "cell_type": "markdown",
   "id": "5d11c408",
   "metadata": {},
   "source": [
    "### Penalized SVM technique"
   ]
  },
  {
   "cell_type": "code",
   "execution_count": null,
   "id": "a4da9fd9",
   "metadata": {},
   "outputs": [],
   "source": [
    "size_train = int(0.7 * len(df))\n",
    "df_train, df_test = df.head(size_train), df.iloc[size_train:,:]\n",
    "    \n",
    "# we can add class_weight='balanced' to add panalize mistake\n",
    "svc_model = SVC(class_weight='balanced', probability=True)\n",
    "X_train, y_train = df_train.iloc[:,:df_train.shape[1] - 1], df_train.iloc[:,df_train.shape[1] - 1]\n",
    "X_test, y_test = df_test.iloc[:,:df_test.shape[1] - 1], df_test.iloc[:,df_test.shape[1] - 1]\n",
    "svc_model.fit(X_train, y_train)\n",
    "\n",
    "svc_predict = svc_model.predict(X_test)# check performance"
   ]
  },
  {
   "cell_type": "code",
   "execution_count": null,
   "id": "498d7a1d",
   "metadata": {},
   "outputs": [],
   "source": [
    "print('ROCAUC score:',roc_auc_score(y_test, svc_predict))\n",
    "print('Accuracy score:',accuracy_score(y_test, svc_predict))\n",
    "print('F1 score:',f1_score(y_test, svc_predict))"
   ]
  },
  {
   "cell_type": "markdown",
   "id": "4a0a7c96",
   "metadata": {},
   "source": [
    "### SVM --> RandomForest"
   ]
  },
  {
   "cell_type": "code",
   "execution_count": null,
   "id": "514076a4",
   "metadata": {},
   "outputs": [],
   "source": [
    "rfc = RandomForestClassifier()\n",
    "\n",
    "# fit the predictor and target\n",
    "rfc.fit(X_train, y_train)\n",
    "\n",
    "# predict\n",
    "rfc_predict = rfc.predict(X_test)# check performance\n",
    "print('ROCAUC score:',roc_auc_score(y_test, rfc_predict))\n",
    "print('Accuracy score:',accuracy_score(y_test, rfc_predict))\n",
    "print('F1 score:',f1_score(y_test, rfc_predict))"
   ]
  },
  {
   "cell_type": "code",
   "execution_count": null,
   "id": "00ffe16a",
   "metadata": {},
   "outputs": [],
   "source": [
    "fig = plt.figure(figsize=(100, 100))\n",
    "plot_tree(rfc.estimators_[0], \n",
    "          feature_names=df.columns,\n",
    "          class_names=[\"active\",\"inactive\"], \n",
    "          filled=True, impurity=True, \n",
    "          rounded=True)\n"
   ]
  },
  {
   "cell_type": "code",
   "execution_count": null,
   "id": "acc42d2a",
   "metadata": {},
   "outputs": [],
   "source": [
    "fig.savefig('figure_name.png')"
   ]
  },
  {
   "cell_type": "code",
   "execution_count": null,
   "id": "8ac9e276",
   "metadata": {},
   "outputs": [],
   "source": []
  },
  {
   "cell_type": "code",
   "execution_count": null,
   "id": "4ca8d24f",
   "metadata": {},
   "outputs": [],
   "source": []
  },
  {
   "cell_type": "code",
   "execution_count": null,
   "id": "36a5d366",
   "metadata": {},
   "outputs": [],
   "source": []
  }
 ],
 "metadata": {
  "kernelspec": {
   "display_name": "Python 3 (ipykernel)",
   "language": "python",
   "name": "python3"
  },
  "language_info": {
   "codemirror_mode": {
    "name": "ipython",
    "version": 3
   },
   "file_extension": ".py",
   "mimetype": "text/x-python",
   "name": "python",
   "nbconvert_exporter": "python",
   "pygments_lexer": "ipython3",
   "version": "3.9.7"
  }
 },
 "nbformat": 4,
 "nbformat_minor": 5
}
