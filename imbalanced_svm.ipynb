{
 "cells": [
  {
   "cell_type": "code",
   "execution_count": 1,
   "metadata": {},
   "outputs": [],
   "source": [
    "# this file needs to be in the same directory as \"cleaned_K8.csv\"\n",
    "# run with jupyter notebook after importing required modules\n",
    "import pandas as pd\n",
    "import numpy as np\n",
    "import sklearn\n",
    "#import seaborn as sns\n",
    "from sklearn.svm import SVC\n",
    "from sklearn.ensemble import RandomForestClassifier\n",
    "from sklearn.tree import plot_tree\n",
    "from sklearn.metrics import confusion_matrix, ConfusionMatrixDisplay, precision_score, recall_score, f1_score, roc_auc_score"
   ]
  },
  {
   "cell_type": "code",
   "execution_count": 2,
   "metadata": {},
   "outputs": [
    {
     "name": "stdout",
     "output_type": "stream",
     "text": [
      "        0      1      2      3      4      5      6      7      8      9     \\\n",
      "0     -0.161 -0.014  0.002 -0.036 -0.033 -0.093  0.025  0.005  0.000 -0.015   \n",
      "1     -0.158 -0.002 -0.012 -0.025 -0.012 -0.106  0.013  0.005  0.000 -0.002   \n",
      "2     -0.169 -0.025 -0.010 -0.041 -0.045 -0.069  0.038  0.014  0.008 -0.014   \n",
      "3     -0.183 -0.051 -0.023 -0.077 -0.092 -0.015  0.071  0.027  0.020 -0.019   \n",
      "4     -0.154  0.005 -0.011 -0.013 -0.002 -0.115  0.005  0.002 -0.003  0.002   \n",
      "...      ...    ...    ...    ...    ...    ...    ...    ...    ...    ...   \n",
      "11609 -0.158 -0.006 -0.006 -0.026 -0.019 -0.104  0.016  0.006  0.001 -0.007   \n",
      "11610 -0.178 -0.041  0.004 -0.060 -0.077 -0.059  0.054  0.015  0.012 -0.025   \n",
      "11611 -0.158  0.003 -0.025 -0.033 -0.007 -0.098  0.012  0.007  0.002  0.004   \n",
      "11612 -0.178 -0.031  0.005 -0.049 -0.059 -0.100  0.041  0.009  0.004 -0.025   \n",
      "11613 -0.163 -0.013 -0.007 -0.037 -0.027 -0.096  0.023  0.007  0.002 -0.011   \n",
      "\n",
      "       ...   5398   5399   5400   5401   5402   5403   5404   5405   5406  \\\n",
      "0      ... -0.015  0.006  0.013  0.021  0.020  0.016 -0.011  0.003  0.010   \n",
      "1      ... -0.007  0.002 -0.008  0.007  0.015 -0.008 -0.011 -0.004  0.013   \n",
      "2      ... -0.016  0.019  0.010  0.025  0.025  0.021 -0.012  0.006  0.016   \n",
      "3      ... -0.028  0.051  0.012  0.050  0.038  0.051 -0.015  0.017  0.027   \n",
      "4      ...  0.027 -0.011  0.012  0.009  0.003 -0.001  0.002 -0.006  0.009   \n",
      "...    ...    ...    ...    ...    ...    ...    ...    ...    ...    ...   \n",
      "11609  ... -0.006 -0.002  0.006  0.009  0.016 -0.001 -0.011 -0.002  0.010   \n",
      "11610  ... -0.021  0.028  0.029  0.044  0.032  0.049 -0.013  0.016  0.015   \n",
      "11611  ... -0.009  0.003 -0.014  0.000  0.014 -0.018 -0.012 -0.005  0.015   \n",
      "11612  ... -0.019  0.014  0.029  0.031  0.029  0.039 -0.009  0.012  0.008   \n",
      "11613  ... -0.011  0.004  0.008  0.013  0.019  0.007 -0.011  0.001  0.011   \n",
      "\n",
      "        5407  \n",
      "0     -0.007  \n",
      "1      0.005  \n",
      "2     -0.018  \n",
      "3     -0.049  \n",
      "4      0.013  \n",
      "...      ...  \n",
      "11609  0.003  \n",
      "11610 -0.034  \n",
      "11611  0.007  \n",
      "11612 -0.019  \n",
      "11613 -0.004  \n",
      "\n",
      "[11614 rows x 5408 columns] 0        0\n",
      "1        0\n",
      "2        0\n",
      "3        0\n",
      "4        0\n",
      "        ..\n",
      "11609    0\n",
      "11610    0\n",
      "11611    0\n",
      "11612    0\n",
      "11613    0\n",
      "Name: 5408, Length: 11614, dtype: int64\n"
     ]
    }
   ],
   "source": [
    "from knn import *\n",
    "from svm import *\n",
    "import imblearn"
   ]
  },
  {
   "cell_type": "code",
   "execution_count": 3,
   "metadata": {},
   "outputs": [
    {
     "name": "stdout",
     "output_type": "stream",
     "text": [
      "Requirement already satisfied: imbalanced-learn in /Users/kelaba/mambaforge/envs/final/lib/python3.9/site-packages (0.9.0)\n",
      "Requirement already satisfied: numpy>=1.14.6 in /Users/kelaba/mambaforge/envs/final/lib/python3.9/site-packages (from imbalanced-learn) (1.22.3)\n",
      "Requirement already satisfied: joblib>=0.11 in /Users/kelaba/mambaforge/envs/final/lib/python3.9/site-packages (from imbalanced-learn) (1.1.0)\n",
      "Requirement already satisfied: scipy>=1.1.0 in /Users/kelaba/mambaforge/envs/final/lib/python3.9/site-packages (from imbalanced-learn) (1.8.0)\n",
      "Requirement already satisfied: scikit-learn>=1.0.1 in /Users/kelaba/mambaforge/envs/final/lib/python3.9/site-packages (from imbalanced-learn) (1.0.2)\n",
      "Requirement already satisfied: threadpoolctl>=2.0.0 in /Users/kelaba/mambaforge/envs/final/lib/python3.9/site-packages (from imbalanced-learn) (3.1.0)\n",
      "Note: you may need to restart the kernel to use updated packages.\n"
     ]
    }
   ],
   "source": [
    "%pip install -U imbalanced-learn"
   ]
  },
  {
   "cell_type": "code",
   "execution_count": 3,
   "metadata": {},
   "outputs": [],
   "source": [
    "df = pd.read_csv(\"cleaned_K8.csv\", header = None, low_memory = False)  # process the data with pandas"
   ]
  },
  {
   "cell_type": "code",
   "execution_count": 4,
   "metadata": {},
   "outputs": [
    {
     "name": "stdout",
     "output_type": "stream",
     "text": [
      "ROCAUC score: 0.5\n",
      "Accuracy score: 0.9891522699879469\n",
      "F1 score: 0.0\n",
      "precision: 0.0\n",
      "recall: 0.0\n",
      "[0 0 0 ... 0 0 0]\n"
     ]
    },
    {
     "name": "stderr",
     "output_type": "stream",
     "text": [
      "/Users/kelaba/mambaforge/envs/final/lib/python3.9/site-packages/sklearn/metrics/_classification.py:1318: UndefinedMetricWarning: Precision is ill-defined and being set to 0.0 due to no predicted samples. Use `zero_division` parameter to control this behavior.\n",
      "  _warn_prf(average, modifier, msg_start, len(result))\n"
     ]
    }
   ],
   "source": [
    "#normal\n",
    "predicted = SVM(df, 0.7)"
   ]
  },
  {
   "cell_type": "code",
   "execution_count": 5,
   "metadata": {},
   "outputs": [
    {
     "name": "stdout",
     "output_type": "stream",
     "text": [
      "class 0: (16449, 5409)\n",
      "class 1: (143, 5409)\n"
     ]
    }
   ],
   "source": [
    "class_count_0, class_count_1 = df[5408].value_counts()\n",
    "\n",
    "# Separate class\n",
    "class_0 = df[df[5408] == 0]\n",
    "class_1 = df[df[5408] == 1]# print the shape of the class\n",
    "print('class 0:', class_0.shape)\n",
    "print('class 1:', class_1.shape)"
   ]
  },
  {
   "cell_type": "code",
   "execution_count": 16,
   "metadata": {},
   "outputs": [
    {
     "data": {
      "text/plain": [
       "<AxesSubplot:title={'center':'count (target)'}>"
      ]
     },
     "execution_count": 16,
     "metadata": {},
     "output_type": "execute_result"
    },
    {
     "data": {
      "image/png": "[encoded data removed]",
      "text/plain": [
       "<Figure size 432x288 with 1 Axes>"
      ]
     },
     "metadata": {
      "needs_background": "light"
     },
     "output_type": "display_data"
    }
   ],
   "source": [
    "#oversampling\n",
    "class_1_over = class_1.sample(class_count_0, replace=True)\n",
    "test_over = pd.concat([class_1_over, class_0], axis=0)\n",
    "test_over[5408].value_counts().plot(kind='bar', title='count (target)')"
   ]
  },
  {
   "cell_type": "code",
   "execution_count": 6,
   "metadata": {},
   "outputs": [
    {
     "name": "stdout",
     "output_type": "stream",
     "text": [
      "0.6208713272543059\n"
     ]
    }
   ],
   "source": [
    "acc_svm = SVM(test_over,0.7)\n",
    "print(acc_svm)"
   ]
  },
  {
   "cell_type": "code",
   "execution_count": 4,
   "metadata": {},
   "outputs": [],
   "source": [
    "from imblearn.over_sampling import SMOTE"
   ]
  },
  {
   "cell_type": "code",
   "execution_count": 6,
   "metadata": {},
   "outputs": [],
   "source": [
    "size_train = int(0.7 * len(df))\n",
    "#df_train, df_test = test_over.head(size_train), test_over.iloc[size_train:,:]\n",
    "    \n",
    "# we can add class_weight='balanced' to add panalize mistake\n",
    "svc_model = SVC()\n",
    "\n",
    "df_train, df_test = df.head(size_train), df.iloc[size_train:,:]\n",
    "\n",
    "X_train, y_train = df_train.iloc[:,:df_train.shape[1] - 1], df_train.iloc[:,df_train.shape[1] - 1]\n",
    "X_test, y_test = df_test.iloc[:,:df_test.shape[1] - 1], df_test.iloc[:,df_test.shape[1] - 1]\n",
    "\n",
    "over = SMOTE()\n",
    "X_smote, y_smote = over.fit_resample(X_train, y_train)\n",
    "# smote_count_1 = 0\n",
    "# smote_count_0 = 0\n",
    "# for i in y_smote:\n",
    "#     if i == 1:\n",
    "#         smote_count_1 += 1\n",
    "#     elif i == 0:\n",
    "#         smote_count_0 += 1\n",
    "# print(smote_count_1, smote_count_0)\n",
    "\n",
    "svc_model.fit(X_smote, y_smote)\n",
    "\n",
    "svc_predict = svc_model.predict(X_test)# check performance"
   ]
  },
  {
   "cell_type": "code",
   "execution_count": 8,
   "metadata": {},
   "outputs": [
    {
     "name": "stdout",
     "output_type": "stream",
     "text": [
      "ROCAUC score: 0.7391160453711225\n",
      "Accuracy score: 0.9911611088790679\n",
      "F1 score: 0.5416666666666666\n",
      "precision: 0.6190476190476191\n",
      "recall: 0.48148148148148145\n"
     ]
    }
   ],
   "source": [
    "print('ROCAUC score:',roc_auc_score(y_test, svc_predict))\n",
    "print('Accuracy score:',accuracy_score(y_test, svc_predict))\n",
    "print('F1 score:',f1_score(y_test, svc_predict))\n",
    "print('precision:', precision_score(y_test, svc_predict))\n",
    "print('recall:', recall_score(y_test, svc_predict))\n"
   ]
  },
  {
   "cell_type": "code",
   "execution_count": 22,
   "metadata": {},
   "outputs": [
    {
     "data": {
      "image/png": "[encoded data removed]",
      "text/plain": [
       "<Figure size 576x576 with 1 Axes>"
      ]
     },
     "metadata": {
      "needs_background": "light"
     },
     "output_type": "display_data"
    }
   ],
   "source": [
    "cm = confusion_matrix(y_test, svc_predict)\n",
    "fig, ax = plt.subplots(figsize=(8, 8))\n",
    "ax.imshow(cm)\n",
    "ax.grid(False)\n",
    "ax.xaxis.set(ticks=(0, 1), ticklabels=('Predicted 0s', 'Predicted 1s'))\n",
    "ax.yaxis.set(ticks=(0, 1), ticklabels=('Actual 0s', 'Actual 1s'))\n",
    "ax.set_ylim(1.5, -0.5)\n",
    "for i in range(2):\n",
    "    for j in range(2):\n",
    "        ax.text(j, i, cm[i, j], ha='center', va='center', color='red')\n",
    "plt.show()"
   ]
  },
  {
   "cell_type": "code",
   "execution_count": 9,
   "metadata": {},
   "outputs": [],
   "source": [
    "#penalized svm\n",
    "size_train = int(0.7 * len(df))\n",
    "df_train, df_test = df.head(size_train), df.iloc[size_train:,:]\n",
    "    \n",
    "# we can add class_weight='balanced' to add panalize mistake\n",
    "svc_model = SVC(class_weight='balanced', probability=True)\n",
    "X_train, y_train = df_train.iloc[:,:df_train.shape[1] - 1], df_train.iloc[:,df_train.shape[1] - 1]\n",
    "X_test, y_test = df_test.iloc[:,:df_test.shape[1] - 1], df_test.iloc[:,df_test.shape[1] - 1]\n",
    "svc_model.fit(X_smote, y_smote)\n",
    "\n",
    "svc_predict = svc_model.predict(X_test)# check performance"
   ]
  },
  {
   "cell_type": "code",
   "execution_count": 26,
   "metadata": {},
   "outputs": [
    {
     "name": "stdout",
     "output_type": "stream",
     "text": [
      "ROCAUC score: 0.738811414989319\n",
      "Accuracy score: 0.9905584572117316\n",
      "F1 score: 0.5252525252525252\n",
      "precision: 0.5777777777777777\n",
      "recall: 0.48148148148148145\n"
     ]
    }
   ],
   "source": [
    "print('ROCAUC score:',roc_auc_score(y_test, svc_predict))\n",
    "print('Accuracy score:',accuracy_score(y_test, svc_predict))\n",
    "print('F1 score:',f1_score(y_test, svc_predict))\n",
    "print('precision:', precision_score(y_test, svc_predict))\n",
    "print('recall:', recall_score(y_test, svc_predict))"
   ]
  },
  {
   "cell_type": "code",
   "execution_count": 14,
   "metadata": {},
   "outputs": [
    {
     "data": {
      "image/png": "[encoded data removed]",
      "text/plain": [
       "<Figure size 576x576 with 1 Axes>"
      ]
     },
     "metadata": {
      "needs_background": "light"
     },
     "output_type": "display_data"
    }
   ],
   "source": [
    "cm = confusion_matrix(y_test, svc_predict)\n",
    "fig, ax = plt.subplots(figsize=(8, 8))\n",
    "ax.imshow(cm)\n",
    "ax.grid(False)\n",
    "ax.xaxis.set(ticks=(0, 1), ticklabels=('Predicted 0s', 'Predicted 1s'))\n",
    "ax.yaxis.set(ticks=(0, 1), ticklabels=('Actual 0s', 'Actual 1s'))\n",
    "ax.set_ylim(1.5, -0.5)\n",
    "for i in range(2):\n",
    "    for j in range(2):\n",
    "        ax.text(j, i, cm[i, j], ha='center', va='center', color='red')\n",
    "plt.show()"
   ]
  },
  {
   "cell_type": "code",
   "execution_count": 27,
   "metadata": {},
   "outputs": [
    {
     "name": "stdout",
     "output_type": "stream",
     "text": [
      "ROCAUC score: 0.5551493817131511\n",
      "Accuracy score: 0.9895540377661711\n",
      "F1 score: 0.18750000000000003\n",
      "precision: 0.6\n",
      "recall: 0.1111111111111111\n",
      "\n"
     ]
    }
   ],
   "source": [
    "#SVM - random forest\n",
    "rfc = RandomForestClassifier()\n",
    "\n",
    "# fit the predictor and target\n",
    "rfc.fit(X_train, y_train)\n",
    "\n",
    "# predict\n",
    "rfc_predict = rfc.predict(X_test)# check performance\n",
    "print('ROCAUC score:',roc_auc_score(y_test, rfc_predict))\n",
    "print('Accuracy score:',accuracy_score(y_test, rfc_predict))\n",
    "print('F1 score:',f1_score(y_test, rfc_predict))\n",
    "print('precision:', precision_score(y_test, rfc_predict))\n",
    "print('recall:', recall_score(y_test, rfc_predict))\n",
    "print()"
   ]
  },
  {
   "cell_type": "code",
   "execution_count": null,
   "metadata": {},
   "outputs": [],
   "source": [
    "fig = plt.figure(figsize=(100, 100))\n",
    "plot_tree(rfc.estimators_[0], \n",
    "          feature_names=df.columns,\n",
    "          class_names=[\"active\",\"inactive\"], \n",
    "          filled=True, impurity=True, \n",
    "          rounded=True)\n",
    "\n",
    "fig.savefig('figure_name.png')"
   ]
  }
 ],
 "metadata": {
  "interpreter": {
   "hash": "59fbfabae26cd35e15f5942d0183baf273b6f987997e9d94167084d306660f4c"
  },
  "kernelspec": {
   "display_name": "Python 3.9.7 ('base')",
   "language": "python",
   "name": "python3"
  },
  "language_info": {
   "codemirror_mode": {
    "name": "ipython",
    "version": 3
   },
   "file_extension": ".py",
   "mimetype": "text/x-python",
   "name": "python",
   "nbconvert_exporter": "python",
   "pygments_lexer": "ipython3",
   "version": "3.9.12"
  },
  "orig_nbformat": 4
 },
 "nbformat": 4,
 "nbformat_minor": 2
}
