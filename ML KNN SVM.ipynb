{
 "cells": [
  {
   "cell_type": "code",
   "execution_count": 1,
   "id": "3a6ad042",
   "metadata": {},
   "outputs": [],
   "source": [
    "import pandas as pd\n",
    "import numpy as np\n",
    "from sklearn.neighbors import KNeighborsClassifier\n",
    "from sklearn.model_selection import ShuffleSplit\n",
    "from sklearn.model_selection import cross_val_score\n",
    "from sklearn import svm\n",
    "from sklearn.metrics import accuracy_score\n",
    "import matplotlib.pyplot as plt"
   ]
  },
  {
   "cell_type": "markdown",
   "id": "144964ab",
   "metadata": {},
   "source": [
    "KNN"
   ]
  },
  {
   "cell_type": "code",
   "execution_count": 2,
   "id": "60affd4a",
   "metadata": {},
   "outputs": [],
   "source": [
    "# splitData is a function that takes a dataframe df, and return the X dataset and y dataset\n",
    "def SplitData(df): \n",
    "    X = df.iloc[:,:5408]\n",
    "    y = df.iloc[:,5408:5409]\n",
    "    return X, y"
   ]
  },
  {
   "cell_type": "code",
   "execution_count": 3,
   "id": "cabf1eec",
   "metadata": {},
   "outputs": [],
   "source": [
    "def EuclideanDistance(s1,s2):\n",
    "    x1,y1 = SplitData(s1)\n",
    "    x2,y2 = SplitData(s2)\n",
    "    dist = np.sqrt(np.sum(np.square(x1.values - x2.values)))\n",
    "    return dist"
   ]
  },
  {
   "cell_type": "code",
   "execution_count": 4,
   "id": "1eec0bd5",
   "metadata": {},
   "outputs": [],
   "source": [
    "def GetNeighbors(df_train, df_test, k_num):\n",
    "    distances = []\n",
    "    for i in range(len(df)):\n",
    "        train = df.iloc[i:i+1,:]\n",
    "        dist = EuclideanDistance(train, df_test)\n",
    "        distances.append((train, dist))\n",
    "    distances.sort(key=lambda tup: tup[1]) # sort based on dist\n",
    "    neighbors = [] \n",
    "    for i in range(k_num):\n",
    "        neighbors.append(distances[i][0])\n",
    "    return neighbors"
   ]
  },
  {
   "cell_type": "code",
   "execution_count": 5,
   "id": "7a33d703",
   "metadata": {},
   "outputs": [],
   "source": [
    "def FindMajorityLabel(List):\n",
    "    return max(set(List), key = List.count)"
   ]
  },
  {
   "cell_type": "code",
   "execution_count": 6,
   "id": "6a23f921",
   "metadata": {},
   "outputs": [],
   "source": [
    "def MakePrediction(df_train, test, k_num):\n",
    "    neighbors = GetNeighbors(df_train, test, k_num)       #get k_num neighbors of test dataset\n",
    "    neighbor_values = [n.iloc[0,5408] for n in neighbors] #get label of each neighbor\n",
    "    prediction = FindMajorityLabel(neighbor_values)       #make prediction based on majority label in neighbors\n",
    "    return prediction"
   ]
  },
  {
   "cell_type": "code",
   "execution_count": 7,
   "id": "6695471e",
   "metadata": {},
   "outputs": [],
   "source": [
    "def GetLabels(df, k_num, train_size):\n",
    "    labels = []                            # save predict label and true label in a matrix\n",
    "    len_train = int(train_size*len(df))\n",
    "    df_train = df.iloc[:len_train,:]\n",
    "    df_test = df.iloc[len_train:,:]\n",
    "    for i in range(len(df_test)):\n",
    "        test = df_test.iloc[i:i+1,:]\n",
    "        y_pred = MakePrediction(df_train,test,k_num)\n",
    "        y_true = df_test.iloc[i,5408]\n",
    "        labels.append((y_pred,y_true))\n",
    "    return labels"
   ]
  },
  {
   "cell_type": "code",
   "execution_count": 8,
   "id": "eaf0ffa2",
   "metadata": {},
   "outputs": [],
   "source": [
    "def ComputeAcc(labels):\n",
    "    total = len(labels)\n",
    "    correct = 0\n",
    "    for y in labels:\n",
    "        if y[0] == y[1]:\n",
    "            correct += 1\n",
    "    acc = correct/total\n",
    "    return acc"
   ]
  },
  {
   "cell_type": "code",
   "execution_count": 9,
   "id": "db097888",
   "metadata": {},
   "outputs": [],
   "source": [
    "def KNN(df, k_num,train_size):\n",
    "    labels = GetLabels(df,k_num,train_size)\n",
    "    acc_knn = ComputeAcc(labels)\n",
    "    return acc_knn"
   ]
  },
  {
   "cell_type": "code",
   "execution_count": 10,
   "id": "cee4111e",
   "metadata": {},
   "outputs": [],
   "source": [
    "# I use knn package to run different k as it takes less time.\n",
    "def KNN2(df, k_num,train_size):\n",
    "    len_train = int(train_size*len(df))\n",
    "    df_train = df.iloc[:len_train,:]\n",
    "    df_test = df.iloc[len_train:,:]\n",
    "    X_train, y_train = SplitData(df_train)\n",
    "    X_test, y_test = SplitData(df_test)\n",
    "    neigh = KNeighborsClassifier(n_neighbors=k_num)\n",
    "    neigh.fit(X_train, np.ravel(y_train))\n",
    "    y_pred = neigh.predict(X_test)\n",
    "    y_true = y_test\n",
    "    acc_knn = accuracy_score(y_pred, y_true)\n",
    "    return acc_knn"
   ]
  },
  {
   "cell_type": "code",
   "execution_count": 11,
   "id": "2b48e141",
   "metadata": {},
   "outputs": [],
   "source": [
    "df = pd.read_csv(\"cleaned_K8.csv\", header = None)"
   ]
  },
  {
   "cell_type": "code",
   "execution_count": 12,
   "id": "ff0851da",
   "metadata": {},
   "outputs": [],
   "source": [
    "acc_knn = KNN2(df,3,0.7)"
   ]
  },
  {
   "cell_type": "code",
   "execution_count": 13,
   "id": "9e294ad1",
   "metadata": {},
   "outputs": [
    {
     "data": {
      "text/plain": [
       "0.9891522699879469"
      ]
     },
     "execution_count": 13,
     "metadata": {},
     "output_type": "execute_result"
    }
   ],
   "source": [
    "acc_knn"
   ]
  },
  {
   "cell_type": "markdown",
   "id": "9674b577",
   "metadata": {},
   "source": [
    "acc_knn = 0.993731918997107 when k = 3"
   ]
  },
  {
   "cell_type": "markdown",
   "id": "a5157c65",
   "metadata": {},
   "source": [
    "get accurancy when k = 3,5,7,9,...,27"
   ]
  },
  {
   "cell_type": "code",
   "execution_count": 20,
   "id": "81114112",
   "metadata": {},
   "outputs": [
    {
     "name": "stdout",
     "output_type": "stream",
     "text": [
      "3\n",
      "5\n",
      "7\n",
      "9\n",
      "11\n",
      "13\n",
      "15\n",
      "17\n",
      "19\n",
      "21\n",
      "23\n",
      "25\n",
      "27\n",
      "29\n"
     ]
    }
   ],
   "source": [
    "df = pd.read_csv(\"cleaned_K8.csv\", header = None)\n",
    "accs = []\n",
    "for i in range(1,15):\n",
    "    k = 2*i + 1\n",
    "    print(k)\n",
    "    acc_knn = KNN2(df,k,0.7)\n",
    "    accs.append(acc_knn)"
   ]
  },
  {
   "cell_type": "code",
   "execution_count": 21,
   "id": "a928571a",
   "metadata": {},
   "outputs": [
    {
     "data": {
      "text/plain": [
       "[0.9891522699879469,\n",
       " 0.9895540377661711,\n",
       " 0.9891522699879469,\n",
       " 0.9889513860988349,\n",
       " 0.9895540377661711,\n",
       " 0.9895540377661711,\n",
       " 0.9891522699879469,\n",
       " 0.9891522699879469,\n",
       " 0.9891522699879469,\n",
       " 0.9891522699879469,\n",
       " 0.9891522699879469,\n",
       " 0.9891522699879469,\n",
       " 0.9891522699879469,\n",
       " 0.9891522699879469]"
      ]
     },
     "execution_count": 21,
     "metadata": {},
     "output_type": "execute_result"
    }
   ],
   "source": [
    "accs"
   ]
  },
  {
   "cell_type": "markdown",
   "id": "57549a46",
   "metadata": {},
   "source": [
    "plot"
   ]
  },
  {
   "cell_type": "code",
   "execution_count": 22,
   "id": "7ae9cf6a",
   "metadata": {},
   "outputs": [
    {
     "data": {
      "image/png": "[encoded data removed]",
      "text/plain": [
       "<Figure size 432x288 with 1 Axes>"
      ]
     },
     "metadata": {
      "needs_background": "light"
     },
     "output_type": "display_data"
    }
   ],
   "source": [
    "x = [2*i+1 for i in range(1,15)]\n",
    "y = accs\n",
    "\n",
    "plt.xlabel('Number of Neighbors')\n",
    "plt.ylabel('Accurancy')\n",
    "plt.title('Accurancy as the K goes up')\n",
    "\n",
    "plt.plot(x,y)\n",
    "\n",
    "plt.show()"
   ]
  },
  {
   "cell_type": "markdown",
   "id": "8eaefc1f",
   "metadata": {},
   "source": [
    "SVM"
   ]
  },
  {
   "cell_type": "code",
   "execution_count": 4,
   "id": "dc8fb4b7",
   "metadata": {},
   "outputs": [],
   "source": [
    "def SVM(df, split_ratio):\n",
    "    #make sure that data is shuffled to avoid bias\n",
    "    size_train = int(split_ratio * len(df))\n",
    "    df_train, df_test = df.head(size_train), df.iloc[size_train:,:]\n",
    "    \n",
    "    X_train, y_train = df_train.iloc[:,:df_train.shape[1] - 1], df_train.iloc[:,df_train.shape[1] - 1]\n",
    "    X_test, y_test = df_test.iloc[:,:df_test.shape[1] - 1], df_test.iloc[:,df_test.shape[1] - 1]\n",
    "    print(X_train, y_train)\n",
    "    \n",
    "    clf = svm.SVC()\n",
    "    clf.fit(X_train, y_train)\n",
    "    predicted = clf.predict(X_test)\n",
    "    return accuracy_score(y_test, predicted)"
   ]
  },
  {
   "cell_type": "code",
   "execution_count": 2,
   "id": "ec708e8e",
   "metadata": {},
   "outputs": [],
   "source": [
    "df = pd.read_csv(\"cleaned_K8.csv\", header = None)"
   ]
  },
  {
   "cell_type": "code",
   "execution_count": 5,
   "id": "f0b304a7",
   "metadata": {},
   "outputs": [
    {
     "name": "stdout",
     "output_type": "stream",
     "text": [
      "        0      1      2      3      4      5      6      7      8      9     \\\n",
      "0     -0.161 -0.014  0.002 -0.036 -0.033 -0.093  0.025  0.005  0.000 -0.015   \n",
      "1     -0.158 -0.002 -0.012 -0.025 -0.012 -0.106  0.013  0.005  0.000 -0.002   \n",
      "2     -0.169 -0.025 -0.010 -0.041 -0.045 -0.069  0.038  0.014  0.008 -0.014   \n",
      "3     -0.183 -0.051 -0.023 -0.077 -0.092 -0.015  0.071  0.027  0.020 -0.019   \n",
      "4     -0.154  0.005 -0.011 -0.013 -0.002 -0.115  0.005  0.002 -0.003  0.002   \n",
      "...      ...    ...    ...    ...    ...    ...    ...    ...    ...    ...   \n",
      "11609 -0.158 -0.006 -0.006 -0.026 -0.019 -0.104  0.016  0.006  0.001 -0.007   \n",
      "11610 -0.178 -0.041  0.004 -0.060 -0.077 -0.059  0.054  0.015  0.012 -0.025   \n",
      "11611 -0.158  0.003 -0.025 -0.033 -0.007 -0.098  0.012  0.007  0.002  0.004   \n",
      "11612 -0.178 -0.031  0.005 -0.049 -0.059 -0.100  0.041  0.009  0.004 -0.025   \n",
      "11613 -0.163 -0.013 -0.007 -0.037 -0.027 -0.096  0.023  0.007  0.002 -0.011   \n",
      "\n",
      "       ...   5398   5399   5400   5401   5402   5403   5404   5405   5406  \\\n",
      "0      ... -0.015  0.006  0.013  0.021  0.020  0.016 -0.011  0.003  0.010   \n",
      "1      ... -0.007  0.002 -0.008  0.007  0.015 -0.008 -0.011 -0.004  0.013   \n",
      "2      ... -0.016  0.019  0.010  0.025  0.025  0.021 -0.012  0.006  0.016   \n",
      "3      ... -0.028  0.051  0.012  0.050  0.038  0.051 -0.015  0.017  0.027   \n",
      "4      ...  0.027 -0.011  0.012  0.009  0.003 -0.001  0.002 -0.006  0.009   \n",
      "...    ...    ...    ...    ...    ...    ...    ...    ...    ...    ...   \n",
      "11609  ... -0.006 -0.002  0.006  0.009  0.016 -0.001 -0.011 -0.002  0.010   \n",
      "11610  ... -0.021  0.028  0.029  0.044  0.032  0.049 -0.013  0.016  0.015   \n",
      "11611  ... -0.009  0.003 -0.014  0.000  0.014 -0.018 -0.012 -0.005  0.015   \n",
      "11612  ... -0.019  0.014  0.029  0.031  0.029  0.039 -0.009  0.012  0.008   \n",
      "11613  ... -0.011  0.004  0.008  0.013  0.019  0.007 -0.011  0.001  0.011   \n",
      "\n",
      "        5407  \n",
      "0     -0.007  \n",
      "1      0.005  \n",
      "2     -0.018  \n",
      "3     -0.049  \n",
      "4      0.013  \n",
      "...      ...  \n",
      "11609  0.003  \n",
      "11610 -0.034  \n",
      "11611  0.007  \n",
      "11612 -0.019  \n",
      "11613 -0.004  \n",
      "\n",
      "[11614 rows x 5408 columns] 0        0\n",
      "1        0\n",
      "2        0\n",
      "3        0\n",
      "4        0\n",
      "        ..\n",
      "11609    0\n",
      "11610    0\n",
      "11611    0\n",
      "11612    0\n",
      "11613    0\n",
      "Name: 5408, Length: 11614, dtype: int64\n"
     ]
    }
   ],
   "source": [
    "acc_svm = SVM(df,0.7)"
   ]
  },
  {
   "cell_type": "code",
   "execution_count": 6,
   "id": "f2e8c7fd",
   "metadata": {},
   "outputs": [
    {
     "data": {
      "text/plain": [
       "0.9891522699879469"
      ]
     },
     "execution_count": 6,
     "metadata": {},
     "output_type": "execute_result"
    }
   ],
   "source": [
    "acc_svm"
   ]
  },
  {
   "cell_type": "code",
   "execution_count": null,
   "id": "bd9d31d2",
   "metadata": {},
   "outputs": [],
   "source": []
  }
 ],
 "metadata": {
  "kernelspec": {
   "display_name": "Python 3",
   "language": "python",
   "name": "python3"
  },
  "language_info": {
   "codemirror_mode": {
    "name": "ipython",
    "version": 3
   },
   "file_extension": ".py",
   "mimetype": "text/x-python",
   "name": "python",
   "nbconvert_exporter": "python",
   "pygments_lexer": "ipython3",
   "version": "3.8.8"
  }
 },
 "nbformat": 4,
 "nbformat_minor": 5
}
