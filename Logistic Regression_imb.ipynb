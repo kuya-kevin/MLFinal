{
 "cells": [
  {
   "cell_type": "code",
   "execution_count": 1,
   "id": "3d609d26",
   "metadata": {},
   "outputs": [],
   "source": [
    "# This file runs logistic regression with original imbalanced data \"cleaned_K8.csv\"\n",
    "# It first performs PCA to check how many principle components are needed for 90% and 95% of the variability of the data\n",
    "# It runs the logistic regression implemented by us and by sklearn "
   ]
  },
  {
   "cell_type": "code",
   "execution_count": 1,
   "id": "8685878c",
   "metadata": {},
   "outputs": [],
   "source": [
    "import pandas as pd\n",
    "import numpy as np\n",
    "from numpy.linalg import eig\n",
    "from sklearn.model_selection import train_test_split\n",
    "import matplotlib.pyplot as plt\n",
    "from sklearn.linear_model import LogisticRegression\n",
    "\n",
    "from sklearn.metrics import confusion_matrix, ConfusionMatrixDisplay, precision_score, recall_score, f1_score, roc_auc_score\n",
    "\n",
    "\n",
    "from imblearn.over_sampling import SMOTE\n",
    "from imblearn.under_sampling import RandomUnderSampler\n",
    "from imblearn.pipeline import Pipeline"
   ]
  },
  {
   "cell_type": "code",
   "execution_count": 2,
   "id": "8dcd64d5",
   "metadata": {},
   "outputs": [],
   "source": [
    "df = pd.read_csv(\"cleaned_K8.csv\", header = None, low_memory = False)  # process the data with pandas"
   ]
  },
  {
   "cell_type": "code",
   "execution_count": 3,
   "id": "f733920b",
   "metadata": {},
   "outputs": [],
   "source": [
    "# Take a peek at the data:"
   ]
  },
  {
   "cell_type": "code",
   "execution_count": 4,
   "id": "ffc559e8",
   "metadata": {
    "scrolled": true
   },
   "outputs": [
    {
     "data": {
      "text/html": [
       "<div>\n",
       "<style scoped>\n",
       "    .dataframe tbody tr th:only-of-type {\n",
       "        vertical-align: middle;\n",
       "    }\n",
       "\n",
       "    .dataframe tbody tr th {\n",
       "        vertical-align: top;\n",
       "    }\n",
       "\n",
       "    .dataframe thead th {\n",
       "        text-align: right;\n",
       "    }\n",
       "</style>\n",
       "<table border=\"1\" class=\"dataframe\">\n",
       "  <thead>\n",
       "    <tr style=\"text-align: right;\">\n",
       "      <th></th>\n",
       "      <th>0</th>\n",
       "      <th>1</th>\n",
       "      <th>2</th>\n",
       "      <th>3</th>\n",
       "      <th>4</th>\n",
       "      <th>5</th>\n",
       "      <th>6</th>\n",
       "      <th>7</th>\n",
       "      <th>8</th>\n",
       "      <th>9</th>\n",
       "      <th>...</th>\n",
       "      <th>5399</th>\n",
       "      <th>5400</th>\n",
       "      <th>5401</th>\n",
       "      <th>5402</th>\n",
       "      <th>5403</th>\n",
       "      <th>5404</th>\n",
       "      <th>5405</th>\n",
       "      <th>5406</th>\n",
       "      <th>5407</th>\n",
       "      <th>5408</th>\n",
       "    </tr>\n",
       "  </thead>\n",
       "  <tbody>\n",
       "    <tr>\n",
       "      <th>0</th>\n",
       "      <td>-0.161</td>\n",
       "      <td>-0.014</td>\n",
       "      <td>0.002</td>\n",
       "      <td>-0.036</td>\n",
       "      <td>-0.033</td>\n",
       "      <td>-0.093</td>\n",
       "      <td>0.025</td>\n",
       "      <td>0.005</td>\n",
       "      <td>0.000</td>\n",
       "      <td>-0.015</td>\n",
       "      <td>...</td>\n",
       "      <td>0.006</td>\n",
       "      <td>0.013</td>\n",
       "      <td>0.021</td>\n",
       "      <td>0.020</td>\n",
       "      <td>0.016</td>\n",
       "      <td>-0.011</td>\n",
       "      <td>0.003</td>\n",
       "      <td>0.010</td>\n",
       "      <td>-0.007</td>\n",
       "      <td>0</td>\n",
       "    </tr>\n",
       "    <tr>\n",
       "      <th>1</th>\n",
       "      <td>-0.158</td>\n",
       "      <td>-0.002</td>\n",
       "      <td>-0.012</td>\n",
       "      <td>-0.025</td>\n",
       "      <td>-0.012</td>\n",
       "      <td>-0.106</td>\n",
       "      <td>0.013</td>\n",
       "      <td>0.005</td>\n",
       "      <td>0.000</td>\n",
       "      <td>-0.002</td>\n",
       "      <td>...</td>\n",
       "      <td>0.002</td>\n",
       "      <td>-0.008</td>\n",
       "      <td>0.007</td>\n",
       "      <td>0.015</td>\n",
       "      <td>-0.008</td>\n",
       "      <td>-0.011</td>\n",
       "      <td>-0.004</td>\n",
       "      <td>0.013</td>\n",
       "      <td>0.005</td>\n",
       "      <td>0</td>\n",
       "    </tr>\n",
       "    <tr>\n",
       "      <th>2</th>\n",
       "      <td>-0.169</td>\n",
       "      <td>-0.025</td>\n",
       "      <td>-0.010</td>\n",
       "      <td>-0.041</td>\n",
       "      <td>-0.045</td>\n",
       "      <td>-0.069</td>\n",
       "      <td>0.038</td>\n",
       "      <td>0.014</td>\n",
       "      <td>0.008</td>\n",
       "      <td>-0.014</td>\n",
       "      <td>...</td>\n",
       "      <td>0.019</td>\n",
       "      <td>0.010</td>\n",
       "      <td>0.025</td>\n",
       "      <td>0.025</td>\n",
       "      <td>0.021</td>\n",
       "      <td>-0.012</td>\n",
       "      <td>0.006</td>\n",
       "      <td>0.016</td>\n",
       "      <td>-0.018</td>\n",
       "      <td>0</td>\n",
       "    </tr>\n",
       "    <tr>\n",
       "      <th>3</th>\n",
       "      <td>-0.183</td>\n",
       "      <td>-0.051</td>\n",
       "      <td>-0.023</td>\n",
       "      <td>-0.077</td>\n",
       "      <td>-0.092</td>\n",
       "      <td>-0.015</td>\n",
       "      <td>0.071</td>\n",
       "      <td>0.027</td>\n",
       "      <td>0.020</td>\n",
       "      <td>-0.019</td>\n",
       "      <td>...</td>\n",
       "      <td>0.051</td>\n",
       "      <td>0.012</td>\n",
       "      <td>0.050</td>\n",
       "      <td>0.038</td>\n",
       "      <td>0.051</td>\n",
       "      <td>-0.015</td>\n",
       "      <td>0.017</td>\n",
       "      <td>0.027</td>\n",
       "      <td>-0.049</td>\n",
       "      <td>0</td>\n",
       "    </tr>\n",
       "    <tr>\n",
       "      <th>4</th>\n",
       "      <td>-0.154</td>\n",
       "      <td>0.005</td>\n",
       "      <td>-0.011</td>\n",
       "      <td>-0.013</td>\n",
       "      <td>-0.002</td>\n",
       "      <td>-0.115</td>\n",
       "      <td>0.005</td>\n",
       "      <td>0.002</td>\n",
       "      <td>-0.003</td>\n",
       "      <td>0.002</td>\n",
       "      <td>...</td>\n",
       "      <td>-0.011</td>\n",
       "      <td>0.012</td>\n",
       "      <td>0.009</td>\n",
       "      <td>0.003</td>\n",
       "      <td>-0.001</td>\n",
       "      <td>0.002</td>\n",
       "      <td>-0.006</td>\n",
       "      <td>0.009</td>\n",
       "      <td>0.013</td>\n",
       "      <td>0</td>\n",
       "    </tr>\n",
       "  </tbody>\n",
       "</table>\n",
       "<p>5 rows × 5409 columns</p>\n",
       "</div>"
      ],
      "text/plain": [
       "    0      1      2      3      4      5      6      7      8      9     ...  \\\n",
       "0 -0.161 -0.014  0.002 -0.036 -0.033 -0.093  0.025  0.005  0.000 -0.015  ...   \n",
       "1 -0.158 -0.002 -0.012 -0.025 -0.012 -0.106  0.013  0.005  0.000 -0.002  ...   \n",
       "2 -0.169 -0.025 -0.010 -0.041 -0.045 -0.069  0.038  0.014  0.008 -0.014  ...   \n",
       "3 -0.183 -0.051 -0.023 -0.077 -0.092 -0.015  0.071  0.027  0.020 -0.019  ...   \n",
       "4 -0.154  0.005 -0.011 -0.013 -0.002 -0.115  0.005  0.002 -0.003  0.002  ...   \n",
       "\n",
       "    5399   5400   5401   5402   5403   5404   5405   5406   5407  5408  \n",
       "0  0.006  0.013  0.021  0.020  0.016 -0.011  0.003  0.010 -0.007     0  \n",
       "1  0.002 -0.008  0.007  0.015 -0.008 -0.011 -0.004  0.013  0.005     0  \n",
       "2  0.019  0.010  0.025  0.025  0.021 -0.012  0.006  0.016 -0.018     0  \n",
       "3  0.051  0.012  0.050  0.038  0.051 -0.015  0.017  0.027 -0.049     0  \n",
       "4 -0.011  0.012  0.009  0.003 -0.001  0.002 -0.006  0.009  0.013     0  \n",
       "\n",
       "[5 rows x 5409 columns]"
      ]
     },
     "execution_count": 4,
     "metadata": {},
     "output_type": "execute_result"
    }
   ],
   "source": [
    "df.head()"
   ]
  },
  {
   "cell_type": "code",
   "execution_count": 5,
   "id": "afe6bc99",
   "metadata": {},
   "outputs": [],
   "source": [
    "# get the X and y from the data"
   ]
  },
  {
   "cell_type": "code",
   "execution_count": 6,
   "id": "882e84f0",
   "metadata": {},
   "outputs": [
    {
     "name": "stdout",
     "output_type": "stream",
     "text": [
      "dimensions of X (16592, 5408)\n"
     ]
    }
   ],
   "source": [
    "feature_cols = [x for x in range(5408)]\n",
    "X = df[feature_cols]\n",
    "y = df[5408]\n",
    "print(\"dimensions of X\", X.shape)"
   ]
  },
  {
   "cell_type": "code",
   "execution_count": 11,
   "id": "e01da8e9",
   "metadata": {},
   "outputs": [],
   "source": [
    "# perform PCA on X, finding PCs that explains \"percent\" of data\n",
    "# Output: X_reduced, X with reduced dimension\n",
    "def PCA_X(X, percent):\n",
    "    feature_cols = [x for x in range(5408)]     # store the features by their indexes\n",
    "    feature_cols_np = np.array(feature_cols)\n",
    "\n",
    "    mean_center_X = X - np.mean(X, axis = 0)    # get the mean centered X from X\n",
    "\n",
    "    # calculate the covar_matrix\n",
    "    covar_matrix = mean_center_X.T @ mean_center_X / (len(mean_center_X) - 1)\n",
    "\n",
    "    # perform eigendecomposition, getting eig_val and eig_vector\n",
    "    eig_val, eig_vector = eig(covar_matrix)\n",
    "    \n",
    "\n",
    "    # sort through eigen_val, creating \"indexes\"\n",
    "    sorted_indexes = eig_val.argsort()[::-1][:len(eig_val)]\n",
    "    eig_val = eig_val[sorted_indexes]\n",
    "\n",
    "    eig_vector = eig_vector[:,sorted_indexes]   # sort the eig_vector based on sorted_indexes\n",
    "    feature_cols_np = feature_cols_np[sorted_indexes] # sort the feature_cols based on sorted_indexes\n",
    "\n",
    "    sum_eig = sum(eig_val)                      # sum over all eig_val for determining percent of variability\n",
    "\n",
    "    # up toward what number of principle components does \"percent\" of data's variability get explained\n",
    "    count = 0\n",
    "    sum_eig_sofar = 0\n",
    "    for i in range(len(eig_val)):\n",
    "        if sum_eig_sofar < (percent * sum_eig):\n",
    "            sum_eig_sofar += eig_val[i]\n",
    "            count += 1\n",
    "\n",
    "    print(\"Amount of principle components that explains\", percent*100, \"%:\", count)\n",
    "\n",
    "    # get eig_vectors that explains \"percent\" of data\n",
    "    eig_vector_reduced = eig_vector[:, 0:count]\n",
    "    \n",
    "    # get X_reduced by projecting each data point in X to the M dimensions described by M eigenvectors\n",
    "    # Note: M here is the amount of eigenvectors that explains \"percent\" of data\n",
    "    X_reduced = mean_center_X @ eig_vector_reduced\n",
    "    return X_reduced\n"
   ]
  },
  {
   "cell_type": "code",
   "execution_count": 12,
   "id": "34dbe206",
   "metadata": {},
   "outputs": [
    {
     "name": "stdout",
     "output_type": "stream",
     "text": [
      "Amount of principle components that explains 90.0 %: 48\n",
      "Amount of principle components that explains 95.0 %: 127\n"
     ]
    }
   ],
   "source": [
    "X_reduced = PCA_X(X, 0.90)\n",
    "X_reduced = PCA_X(X, 0.95)\n"
   ]
  },
  {
   "cell_type": "code",
   "execution_count": 19,
   "id": "fa1790af",
   "metadata": {},
   "outputs": [],
   "source": [
    "class LogisticRegressionHand:\n",
    "    def __init__(self, learn_rate = 0.001, num_iters=10000):\n",
    "        self.learn_rate = learn_rate\n",
    "        self.num_iters = num_iters\n",
    "        self.W = None \n",
    "        self.bias = None\n",
    "    \n",
    "    # X is num_samples by num_features \n",
    "    # y is 1D row vector for each training sample\n",
    "    def fit(self, X, y):\n",
    "        # init params (as zeros)\n",
    "        num_samples, num_features = X.shape\n",
    "        self.W = np.zeros(num_features)\n",
    "        self.bias = 0\n",
    "        #print(\"num_samples, num_features\", num_samples, num_features)\n",
    "        #print(\"self.W.shape\", self.W.shape)\n",
    "        \n",
    "        # gradient descent\n",
    "        for i in range(self.num_iters):\n",
    "            linear_model = np.dot(X, self.W) + self.bias \n",
    "            \n",
    "            y_predicted = self._sigmoid(linear_model)\n",
    "            \n",
    "            # derivatives\n",
    "            dw = (1 / num_samples) * np.dot(X.T, (y_predicted - y))\n",
    "            db = (1 / num_samples) * np.sum(y_predicted - y)\n",
    "            \n",
    "            # update weights and bias \n",
    "            self.W -= self.learn_rate * dw\n",
    "            self.bias -= self.learn_rate * db\n",
    "            \n",
    "    def predict(self, X):\n",
    "        linear_model = np.dot(X, self.W) + self.bias \n",
    "        y_predicted = self._sigmoid(linear_model)\n",
    "        \n",
    "        # based on y_predicted, get the predicted class label\n",
    "        y_predicted_label = [1 if i > 0.5 else 0 for i in y_predicted]\n",
    "        \n",
    "        return y_predicted_label\n",
    "    \n",
    "    # sigmoid func\n",
    "    def _sigmoid(self, x):\n",
    "        sigmoid = 1 / (1 + np.exp(-x))\n",
    "        return sigmoid"
   ]
  },
  {
   "cell_type": "code",
   "execution_count": 20,
   "id": "181ca521",
   "metadata": {},
   "outputs": [],
   "source": [
    "# a function to calculate accuracy \n",
    "def accuracy(y_observed, y_predicted):\n",
    "    accuracy = np.sum(y_observed == y_predicted) / len(y_observed)\n",
    "    return accuracy"
   ]
  },
  {
   "cell_type": "code",
   "execution_count": 21,
   "id": "47654154",
   "metadata": {},
   "outputs": [],
   "source": [
    "def LogisticRegression_package(X, y, testSize):\n",
    "    X_train, X_test, y_train, y_test = train_test_split(X, y, test_size = testSize, random_state = 1234)\n",
    "    clf = LogisticRegression(max_iter = 10000)\n",
    "    clf.fit(X_train, y_train)\n",
    "    \n",
    "    y_predictions = clf.predict(X_test)\n",
    "    print(\"\")\n",
    "    print(\"For SMOTE + RandomUnderSampler with LR from sklearn package:\")\n",
    "    print(\"Logistic classification accurary:\", accuracy(y_test, y_predictions))\n",
    "    print(\"precision_score\", precision_score(y_test, y_predictions))\n",
    "    print(\"recall_score\", recall_score(y_test, y_predictions))\n",
    "    print(\"f1_score\", f1_score(y_test, y_predictions))\n",
    "    print(\"roc_auc_score\", roc_auc_score(y_test, y_predictions))\n",
    "    \n",
    "    cm = confusion_matrix(y_test, y_predictions)\n",
    "    \n",
    "    fig, ax = plt.subplots(figsize=(8, 8))\n",
    "    ax.imshow(cm)\n",
    "    ax.grid(False)\n",
    "    ax.xaxis.set(ticks=(0, 1), ticklabels=('Predicted 0s', 'Predicted 1s'))\n",
    "    ax.yaxis.set(ticks=(0, 1), ticklabels=('Actual 0s', 'Actual 1s'))\n",
    "    ax.set_ylim(1.5, -0.5)\n",
    "    for i in range(2):\n",
    "        for j in range(2):\n",
    "            ax.text(j, i, cm[i, j], ha='center', va='center', color='red')\n",
    "    plt.show()"
   ]
  },
  {
   "cell_type": "code",
   "execution_count": 22,
   "id": "b35519d3",
   "metadata": {},
   "outputs": [],
   "source": [
    "# Hyper-parameter, parameter: testSize, \n",
    "def LogisticRegression_calc(X, y, testSize):\n",
    "    X_train, X_test, y_train, y_test = train_test_split(X, y, test_size = testSize, random_state = 1234)\n",
    "    \n",
    "    Logistic_regressor = LogisticRegressionHand(learn_rate = 0.001, num_iters=10000)\n",
    "    Logistic_regressor.fit(X_train, y_train)\n",
    "    y_predictions = Logistic_regressor.predict(X_test)\n",
    "    print(\"\")\n",
    "    print(\"For SMOTE + RandomUnderSampler with hand-implemented LR:\")\n",
    "    print(\"Logistic classification accurary:\", accuracy(y_test, y_predictions))\n",
    "    print(\"precision_score\", precision_score(y_test, y_predictions))\n",
    "    print(\"recall_score\", recall_score(y_test, y_predictions))\n",
    "    print(\"f1_score\", f1_score(y_test, y_predictions))\n",
    "    print(\"roc_auc_score\", roc_auc_score(y_test, y_predictions))\n",
    "    \n",
    "    cm = confusion_matrix(y_test, y_predictions)\n",
    "    \n",
    "    fig, ax = plt.subplots(figsize=(8, 8))\n",
    "    ax.imshow(cm)\n",
    "    ax.grid(False)\n",
    "    ax.xaxis.set(ticks=(0, 1), ticklabels=('Predicted 0s', 'Predicted 1s'))\n",
    "    ax.yaxis.set(ticks=(0, 1), ticklabels=('Actual 0s', 'Actual 1s'))\n",
    "    ax.set_ylim(1.5, -0.5)\n",
    "    for i in range(2):\n",
    "        for j in range(2):\n",
    "            ax.text(j, i, cm[i, j], ha='center', va='center', color='red')\n",
    "    plt.show()\n",
    "    "
   ]
  },
  {
   "cell_type": "code",
   "execution_count": 23,
   "id": "a4c38283",
   "metadata": {},
   "outputs": [
    {
     "name": "stdout",
     "output_type": "stream",
     "text": [
      "\n",
      "For SMOTE + RandomUnderSampler with hand-implemented LR:\n",
      "Logistic classification accurary: 0.9929690638810768\n",
      "precision_score 0.7894736842105263\n",
      "recall_score 0.32608695652173914\n",
      "f1_score 0.46153846153846156\n",
      "roc_auc_score 0.6626379632568145\n"
     ]
    },
    {
     "data": {
      "image/png": "[encoded data removed]",
      "text/plain": [
       "<Figure size 576x576 with 1 Axes>"
      ]
     },
     "metadata": {
      "needs_background": "light"
     },
     "output_type": "display_data"
    }
   ],
   "source": [
    "# logistic regression on original data \n",
    "LogisticRegression_calc(X, y, 0.3)"
   ]
  },
  {
   "cell_type": "code",
   "execution_count": 24,
   "id": "4ab074e7",
   "metadata": {},
   "outputs": [
    {
     "name": "stdout",
     "output_type": "stream",
     "text": [
      "\n",
      "For SMOTE + RandomUnderSampler with LR from sklearn package:\n",
      "Logistic classification accurary: 0.9889513860988349\n",
      "precision_score 0.42105263157894735\n",
      "recall_score 0.5217391304347826\n",
      "f1_score 0.46601941747572817\n",
      "roc_auc_score 0.7575240664339363\n"
     ]
    },
    {
     "data": {
      "image/png": "[encoded data removed]",
      "text/plain": [
       "<Figure size 576x576 with 1 Axes>"
      ]
     },
     "metadata": {
      "needs_background": "light"
     },
     "output_type": "display_data"
    }
   ],
   "source": [
    "# use sklearn package \n",
    "LogisticRegression_package(X, y, 0.3)"
   ]
  },
  {
   "cell_type": "code",
   "execution_count": null,
   "id": "3cf106d8",
   "metadata": {},
   "outputs": [],
   "source": []
  }
 ],
 "metadata": {
  "kernelspec": {
   "display_name": "Python 3",
   "language": "python",
   "name": "python3"
  },
  "language_info": {
   "codemirror_mode": {
    "name": "ipython",
    "version": 3
   },
   "file_extension": ".py",
   "mimetype": "text/x-python",
   "name": "python",
   "nbconvert_exporter": "python",
   "pygments_lexer": "ipython3",
   "version": "3.8.8"
  }
 },
 "nbformat": 4,
 "nbformat_minor": 5
}
