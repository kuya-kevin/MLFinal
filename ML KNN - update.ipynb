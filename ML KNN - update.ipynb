{
 "cells": [
  {
   "cell_type": "markdown",
   "id": "8474ddce",
   "metadata": {},
   "source": [
    "This file only runs the K nearest neighbors implemented by us and by sklearn with SMOTE oversampling. \\\n",
    "This code need \"cleaned_K8.csv\" in the same direcrory. \"cleaned_K8.csv\" is get from clean_data.py."
   ]
  },
  {
   "cell_type": "code",
   "execution_count": 1,
   "id": "3a6ad042",
   "metadata": {},
   "outputs": [],
   "source": [
    "import pandas as pd\n",
    "import numpy as np\n",
    "import matplotlib.pyplot as plt\n",
    "from sklearn.neighbors import KNeighborsClassifier \n",
    "from sklearn.model_selection import ShuffleSplit\n",
    "from sklearn.model_selection import cross_val_score\n",
    "from sklearn import svm\n",
    "from sklearn.metrics import accuracy_score\n",
    "from sklearn.model_selection import train_test_split\n",
    "from imblearn.over_sampling import SMOTE\n",
    "from imblearn.under_sampling import RandomUnderSampler\n",
    "from imblearn.pipeline import Pipeline\n",
    "from collections import Counter\n",
    "from matplotlib import pyplot\n",
    "from numpy import where\n",
    "from sklearn.metrics import confusion_matrix, ConfusionMatrixDisplay, precision_score, recall_score, f1_score, roc_auc_score"
   ]
  },
  {
   "cell_type": "markdown",
   "id": "ae897f8d",
   "metadata": {},
   "source": [
    "### Preprocess the imbalanced dataset"
   ]
  },
  {
   "cell_type": "code",
   "execution_count": 2,
   "id": "f3d7dfa2",
   "metadata": {},
   "outputs": [],
   "source": [
    "# process the imbalanced data\n",
    "# method is either 'smote' or 'default'\n",
    "def process_imb(df, testSize, method):\n",
    "    X,y = SplitData(df) #X, y are pd.DataFrame\n",
    "    counter = Counter(y.values.ravel().tolist())\n",
    "    print(\"count labels on y:\",counter)\n",
    "    \n",
    "    # use train_test_split function to randomly split the data into training and testing data\n",
    "    X_train, X_test, y_train, y_test = train_test_split(X, y, test_size = testSize, random_state = 1234)\n",
    "    counter = Counter(y_train.values.ravel().tolist())\n",
    "    print(\"count labels on y_train:\",counter)\n",
    "    counter = Counter(y_test.values.ravel().tolist())\n",
    "    print(\"count labels on y_test:\",counter)\n",
    "\n",
    "    # define pipeline\n",
    "    over = SMOTE(sampling_strategy = 0.1)\n",
    "    under = RandomUnderSampler(sampling_strategy = 0.5)\n",
    "    Pipeline_steps = [('o', over), ('u', under)]\n",
    "    pipeline = Pipeline(Pipeline_steps)\n",
    "    if method == 'smote':\n",
    "        pipeline = over\n",
    "\n",
    "    X_train_smote, y_train_smote = pipeline.fit_resample(X_train, y_train)\n",
    "    counter = Counter(y_train_smote.values.ravel().tolist())\n",
    "    print(\"count labels on y_train_smote:\",counter)\n",
    "\n",
    "    return X_train_smote, y_train_smote, X_test, y_test"
   ]
  },
  {
   "cell_type": "markdown",
   "id": "144964ab",
   "metadata": {},
   "source": [
    "### Implement KNN from skratch"
   ]
  },
  {
   "cell_type": "code",
   "execution_count": 3,
   "id": "60affd4a",
   "metadata": {},
   "outputs": [],
   "source": [
    "# splitData is a function that takes a dataframe df, and return the X dataset and y dataset\n",
    "def SplitData(df): \n",
    "    X = df.iloc[:,:5408]\n",
    "    y = df.iloc[:,5408:5409]\n",
    "    return X, y"
   ]
  },
  {
   "cell_type": "code",
   "execution_count": 4,
   "id": "cabf1eec",
   "metadata": {},
   "outputs": [],
   "source": [
    "def EuclideanDistance(s1,s2):\n",
    "    x1,y1 = SplitData(s1)\n",
    "    x2,y2 = SplitData(s2)\n",
    "    dist = np.sqrt(np.sum(np.square(x1.values - x2.values)))\n",
    "    return dist"
   ]
  },
  {
   "cell_type": "code",
   "execution_count": 5,
   "id": "1eec0bd5",
   "metadata": {},
   "outputs": [],
   "source": [
    "def GetNeighbors(df_train, df_test, k_num):\n",
    "    distances = []\n",
    "    for i in range(len(df)):\n",
    "        train = df.iloc[i:i+1,:]\n",
    "        dist = EuclideanDistance(train, df_test)\n",
    "        distances.append((train, dist))\n",
    "    distances.sort(key=lambda tup: tup[1]) # sort based on dist\n",
    "    neighbors = [] \n",
    "    for i in range(k_num):\n",
    "        neighbors.append(distances[i][0])\n",
    "    return neighbors"
   ]
  },
  {
   "cell_type": "code",
   "execution_count": 6,
   "id": "7a33d703",
   "metadata": {},
   "outputs": [],
   "source": [
    "def FindMajorityLabel(List):\n",
    "    return max(set(List), key = List.count)"
   ]
  },
  {
   "cell_type": "code",
   "execution_count": 7,
   "id": "6a23f921",
   "metadata": {},
   "outputs": [],
   "source": [
    "def MakePrediction(df_train, test, k_num):\n",
    "    neighbors = GetNeighbors(df_train, test, k_num)       #get k_num neighbors of test dataset\n",
    "    neighbor_values = [n.iloc[0,5408] for n in neighbors] #get label of each neighbor\n",
    "    prediction = FindMajorityLabel(neighbor_values)       #make prediction based on majority label in neighbors\n",
    "    return prediction"
   ]
  },
  {
   "cell_type": "code",
   "execution_count": 8,
   "id": "6695471e",
   "metadata": {},
   "outputs": [],
   "source": [
    "def GetLabels(df, k_num, train_size):\n",
    "    labels = []                            # save predict label and true label in a matrix\n",
    "    len_train = int(train_size*len(df))\n",
    "    df_train = df.iloc[:len_train,:]\n",
    "    df_test = df.iloc[len_train:,:]\n",
    "    for i in range(len(df_test)):\n",
    "        test = df_test.iloc[i:i+1,:]\n",
    "        y_pred = MakePrediction(df_train,test,k_num)\n",
    "        y_true = df_test.iloc[i,5408]\n",
    "        labels.append((y_true,y_pred))\n",
    "    return labels"
   ]
  },
  {
   "cell_type": "code",
   "execution_count": 9,
   "id": "076881a3",
   "metadata": {},
   "outputs": [],
   "source": [
    "def GetLabels2(k_num, df_train, df_test):\n",
    "    labels = []                            # save predict label and true label in a matrix\n",
    "    for i in range(len(df_test)):\n",
    "        test = df_test.iloc[i:i+1,:]\n",
    "        y_pred = MakePrediction(df_train,test,k_num)\n",
    "        y_true = df_test.iloc[i,5408]\n",
    "        labels.append((y_true,y_pred))\n",
    "    return labels"
   ]
  },
  {
   "cell_type": "code",
   "execution_count": 10,
   "id": "eaf0ffa2",
   "metadata": {},
   "outputs": [],
   "source": [
    "def ComputeAcc(labels):\n",
    "    total = len(labels)\n",
    "    correct = 0\n",
    "    for y in labels:\n",
    "        if y[0] == y[1]:\n",
    "            correct += 1\n",
    "    acc = correct/total\n",
    "    return acc"
   ]
  },
  {
   "cell_type": "markdown",
   "id": "3b331b71",
   "metadata": {},
   "source": [
    "### Use KNN from sklearn"
   ]
  },
  {
   "cell_type": "code",
   "execution_count": 11,
   "id": "62dd7ed7",
   "metadata": {},
   "outputs": [],
   "source": [
    "def confusionMatrix(y_test, y_pred):\n",
    "    cm = confusion_matrix(y_test, y_pred)\n",
    "    fig, ax = plt.subplots(figsize=(8, 8))\n",
    "    ax.imshow(cm)\n",
    "    ax.grid(False)\n",
    "    ax.xaxis.set(ticks=(0, 1), ticklabels=('Predicted 0s', 'Predicted 1s'))\n",
    "    ax.yaxis.set(ticks=(0, 1), ticklabels=('Actual 0s', 'Actual 1s'))\n",
    "    ax.set_ylim(1.5, -0.5)\n",
    "    for i in range(2):\n",
    "        for j in range(2):\n",
    "            ax.text(j, i, cm[i, j], ha='center', va='center', color='red')\n",
    "    plt.show()"
   ]
  },
  {
   "cell_type": "code",
   "execution_count": 12,
   "id": "db097888",
   "metadata": {},
   "outputs": [],
   "source": [
    "def KNN(df, k_num, train_size):\n",
    "    labels = GetLabels(df,k_num, train_size)\n",
    "    acc_knn = ComputeAcc(labels)\n",
    "    print(\"accuracy:\",acc_knn)\n",
    "    y_true = np.array(labels)[:,0]\n",
    "    y_pred = np.array(labels)[:,1]\n",
    "    precision = precision_score(y_true, y_pred)\n",
    "    print(\"precision score:\", precision)\n",
    "    recall= recall_score(y_true, y_pred)\n",
    "    print(\"recall score:\",recall)\n",
    "    f1 = f1_score(y_true, y_pred)\n",
    "    print(\"f1 score:\",f1)\n",
    "    roc_auc = roc_auc_score(y_true, y_pred)\n",
    "    print(\"ROC AUC score\", roc_auc)\n",
    "    confusionMatrix(y_true, y_pred)\n",
    "    return acc_knn"
   ]
  },
  {
   "cell_type": "code",
   "execution_count": 59,
   "id": "524364d2",
   "metadata": {},
   "outputs": [],
   "source": [
    "def KNN_smote_undersampling(df, k_num, test_size, method):\n",
    "    X_train_smote, y_train_smote, X_test, y_test = process_imb(df, 0.3, method)\n",
    "    df_train = pd.concat([X_train_smote, y_train_smote], axis=1)\n",
    "    df_test = pd.concat([X_test, y_test], axis=1)\n",
    "    labels = GetLabels2(k_num, df_train, df_test)\n",
    "    y_true = np.array(labels)[:,0]\n",
    "    y_pred = np.array(labels)[:,1]\n",
    "    acc_knn = accuracy_score(y_pred, y_true)\n",
    "    print(\"accuracy:\",acc_knn)\n",
    "    precision = precision_score(y_true, y_pred)\n",
    "    print(\"precision score:\", precision)\n",
    "    recall= recall_score(y_true, y_pred)\n",
    "    print(\"recall score:\",recall)\n",
    "    f1 = f1_score(y_true, y_pred)\n",
    "    print(\"f1 score:\",f1)\n",
    "    roc_auc = roc_auc_score(y_true, y_pred)\n",
    "    print(\"ROC AUC score\", roc_auc)\n",
    "    confusionMatrix(y_true, y_pred)\n",
    "    return acc_knn"
   ]
  },
  {
   "cell_type": "code",
   "execution_count": 149,
   "id": "18e28284",
   "metadata": {},
   "outputs": [
    {
     "name": "stdout",
     "output_type": "stream",
     "text": [
      "accuracy: 0.9895540377661711\n",
      "precision score: 1.0\n",
      "recall score: 0.037037037037037035\n",
      "f1 score: 0.07142857142857142\n",
      "ROC AUC score 0.5185185185185185\n"
     ]
    },
    {
     "data": {
      "image/png": "[encoded data removed]",
      "text/plain": [
       "<Figure size 576x576 with 1 Axes>"
      ]
     },
     "metadata": {
      "needs_background": "light"
     },
     "output_type": "display_data"
    }
   ],
   "source": [
    "acc_knn = KNN(df, 5, 0.7)"
   ]
  },
  {
   "cell_type": "code",
   "execution_count": 155,
   "id": "36b8fb84",
   "metadata": {},
   "outputs": [
    {
     "name": "stdout",
     "output_type": "stream",
     "text": [
      "count labels on y: Counter({0: 16449, 1: 143})\n",
      "count labels on y_train: Counter({0: 11517, 1: 97})\n",
      "count labels on y_test: Counter({0: 4932, 1: 46})\n",
      "count labels on y_train_smote: Counter({0: 11517, 1: 1151})\n",
      "accuracy: 0.9823222177581358\n",
      "precision score: 0.21621621621621623\n",
      "recall score: 0.34782608695652173\n",
      "f1 score: 0.26666666666666666\n",
      "ROC AUC score 0.6680330759194612\n"
     ]
    },
    {
     "data": {
      "image/png": "[encoded data removed]",
      "text/plain": [
       "<Figure size 576x576 with 1 Axes>"
      ]
     },
     "metadata": {
      "needs_background": "light"
     },
     "output_type": "display_data"
    }
   ],
   "source": [
    "acc_knn = KNN_smote_undersampling(df, 5, 0.3, 'smote') # SMOTE oversampling"
   ]
  },
  {
   "cell_type": "code",
   "execution_count": 150,
   "id": "56118aab",
   "metadata": {},
   "outputs": [
    {
     "name": "stdout",
     "output_type": "stream",
     "text": [
      "count labels on y: Counter({0: 16449, 1: 143})\n",
      "count labels on y_train: Counter({0: 11517, 1: 97})\n",
      "count labels on y_test: Counter({0: 4932, 1: 46})\n",
      "count labels on y_train_smote: Counter({0: 2302, 1: 1151})\n",
      "accuracy: 0.9433507432703897\n",
      "precision score: 0.07857142857142857\n",
      "recall score: 0.4782608695652174\n",
      "f1 score: 0.1349693251533742\n",
      "ROC AUC score 0.7129747170210515\n"
     ]
    },
    {
     "data": {
      "image/png": "[encoded data removed]",
      "text/plain": [
       "<Figure size 576x576 with 1 Axes>"
      ]
     },
     "metadata": {
      "needs_background": "light"
     },
     "output_type": "display_data"
    }
   ],
   "source": [
    "acc_knn = KNN_smote_undersampling(df, 5, 0.3, 'mix') #SMOTE + Random Undersampling"
   ]
  },
  {
   "cell_type": "markdown",
   "id": "57549a46",
   "metadata": {},
   "source": [
    "### Which k is the best?"
   ]
  },
  {
   "cell_type": "markdown",
   "id": "a5157c65",
   "metadata": {},
   "source": [
    "get accurancy when k = 3,5,7,9,...,27"
   ]
  },
  {
   "cell_type": "code",
   "execution_count": 3,
   "id": "81114112",
   "metadata": {},
   "outputs": [],
   "source": [
    "def get_accs(k,train_size):\n",
    "    df = pd.read_csv(\"cleaned_K8.csv\", header = None)\n",
    "    accs = []\n",
    "    for i in range(1,20):\n",
    "        k = 2*i + 1\n",
    "        print(k)\n",
    "        acc_knn = KNN(df,k,train_size)\n",
    "        print(acc_knn)\n",
    "        accs.append(acc_knn)\n",
    "    return accs"
   ]
  },
  {
   "cell_type": "code",
   "execution_count": 4,
   "id": "7ae9cf6a",
   "metadata": {},
   "outputs": [],
   "source": [
    "def k_tunning_plot(accs):\n",
    "    x = [2*i+1 for i in range(1,20)]\n",
    "    y = accs\n",
    "\n",
    "    plt.xlabel('Number of Neighbors')\n",
    "    plt.ylabel('Accuracy Score')\n",
    "    plt.title('Accuracy score as the K goes up')\n",
    "\n",
    "    plt.plot(x,y)\n",
    "\n",
    "    plt.show()"
   ]
  },
  {
   "cell_type": "code",
   "execution_count": null,
   "id": "2f81d32d",
   "metadata": {},
   "outputs": [],
   "source": [
    "accs = get_accs(5, 0.7)\n",
    "k_tunning_plot(accs)"
   ]
  }
 ],
 "metadata": {
  "kernelspec": {
   "display_name": "Python 3",
   "language": "python",
   "name": "python3"
  },
  "language_info": {
   "codemirror_mode": {
    "name": "ipython",
    "version": 3
   },
   "file_extension": ".py",
   "mimetype": "text/x-python",
   "name": "python",
   "nbconvert_exporter": "python",
   "pygments_lexer": "ipython3",
   "version": "3.8.8"
  }
 },
 "nbformat": 4,
 "nbformat_minor": 5
}
